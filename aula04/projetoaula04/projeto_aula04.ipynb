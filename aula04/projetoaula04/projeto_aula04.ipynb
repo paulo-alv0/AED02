{
 "cells": [
  {
   "cell_type": "markdown",
   "id": "98835210-d0cd-449d-b439-261644bda1d7",
   "metadata": {},
   "source": [
    "# Projeto - Busca Eficiente em um Índice de Livros"
   ]
  },
  {
   "cell_type": "code",
   "execution_count": 12,
   "id": "8c481862-e03b-4f69-bb72-009ed4de850a",
   "metadata": {},
   "outputs": [],
   "source": [
    "def busca_livro(livro, l_livro):\n",
    "    esquerda = 0\n",
    "    direita = len(l_livro) - 1\n",
    "    \n",
    "    while esquerda <= direita:\n",
    "        meio = (esquerda + direita) // 2\n",
    "        titulo_meio = l_livro[meio][0].lower()\n",
    "        \n",
    "        if livro == titulo_meio:\n",
    "            return meio\n",
    "        elif livro < titulo_meio:\n",
    "            direita = meio - 1\n",
    "        else:\n",
    "            esquerda = meio + 1\n",
    "            \n",
    "    return -1"
   ]
  },
  {
   "cell_type": "code",
   "execution_count": 22,
   "id": "372feea0-565d-44bf-8494-3f88eedb80c8",
   "metadata": {},
   "outputs": [
    {
     "name": "stdout",
     "output_type": "stream",
     "text": [
      "BIBLIOTECA - SISTEMA CONSULTA DE LIVRO\n"
     ]
    },
    {
     "name": "stdin",
     "output_type": "stream",
     "text": [
      "Digite o nome do livro:  frankenstein\n"
     ]
    },
    {
     "name": "stdout",
     "output_type": "stream",
     "text": [
      "O livro foi encontrado na posição 2.\n",
      "('Frankenstein', 'Mary Shelley', '1818')\n"
     ]
    }
   ],
   "source": [
    "lista_livros = [('As Aventuras de Sherlock Holmes', 'Arthur Conan Doyle', '1892'), \n",
    "                ('Dom Quixote', 'Miguel de Cervantes', '1605'), \n",
    "                ('Frankenstein', 'Mary Shelley', '1818'), \n",
    "                ('Harry Potter e a Pedra Filosofal', 'J.K. Rowling', '1997'), \n",
    "                ('O Senhor dos Anéis', 'J.R.R. Tolkien', '1954')]\n",
    "\n",
    "print(\"BIBLIOTECA - SISTEMA CONSULTA DE LIVRO\")\n",
    "livro = input(\"Digite o nome do livro: \").lower()\n",
    "pos = busca_livro(livro, lista_livros)\n",
    "\n",
    "if pos != -1:\n",
    "    print(f\"O livro foi encontrado na posição {pos}.\")\n",
    "    print(lista_livros[pos])\n",
    "else:\n",
    "    print(\"O livro não foi encontrado.\")"
   ]
  }
 ],
 "metadata": {
  "kernelspec": {
   "display_name": "Python 3 (ipykernel)",
   "language": "python",
   "name": "python3"
  },
  "language_info": {
   "codemirror_mode": {
    "name": "ipython",
    "version": 3
   },
   "file_extension": ".py",
   "mimetype": "text/x-python",
   "name": "python",
   "nbconvert_exporter": "python",
   "pygments_lexer": "ipython3",
   "version": "3.13.5"
  }
 },
 "nbformat": 4,
 "nbformat_minor": 5
}
