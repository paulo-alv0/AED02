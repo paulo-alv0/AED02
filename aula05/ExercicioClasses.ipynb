{
 "cells": [
  {
   "cell_type": "code",
   "execution_count": 4,
   "id": "97497e5e-9819-4561-8e7d-ca61210fa819",
   "metadata": {},
   "outputs": [],
   "source": [
    "class Pessoa:\n",
    "    def __init__(self, nome, idade):\n",
    "        self.nome = nome\n",
    "        self.idade = idade\n",
    "\n",
    "    def __str__(self):\n",
    "        return f\"{self.nome}, {self.idade} anos.\"\n",
    "\n",
    "    def faz_aniversario(self):\n",
    "        self.idade += 1"
   ]
  },
  {
   "cell_type": "code",
   "execution_count": 5,
   "id": "77f4e4a5-4a4f-4dff-b26f-8528730351f0",
   "metadata": {},
   "outputs": [
    {
     "name": "stdout",
     "output_type": "stream",
     "text": [
      "Paulo, 19 anos.\n",
      "Sophia, 24 anos.\n",
      "Paulo, 20 anos.\n"
     ]
    }
   ],
   "source": [
    "p1 = Pessoa(\"Paulo\", 19)\n",
    "p2 = Pessoa(\"Sophia\", 24)\n",
    "print(p1)\n",
    "print(p2)\n",
    "p1.faz_aniversario()\n",
    "print(p1)"
   ]
  }
 ],
 "metadata": {
  "kernelspec": {
   "display_name": "Python 3 (ipykernel)",
   "language": "python",
   "name": "python3"
  },
  "language_info": {
   "codemirror_mode": {
    "name": "ipython",
    "version": 3
   },
   "file_extension": ".py",
   "mimetype": "text/x-python",
   "name": "python",
   "nbconvert_exporter": "python",
   "pygments_lexer": "ipython3",
   "version": "3.13.5"
  }
 },
 "nbformat": 4,
 "nbformat_minor": 5
}
