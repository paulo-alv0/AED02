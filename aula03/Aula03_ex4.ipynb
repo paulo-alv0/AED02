{
 "cells": [
  {
   "cell_type": "code",
   "execution_count": 29,
   "id": "46a68864-3607-4d93-ae42-12ec903a2882",
   "metadata": {},
   "outputs": [],
   "source": [
    "def buscar_cliente(nome, lista_clientes):\n",
    "    for i in range(len(lista_clientes)):\n",
    "        if lista_clientes[i].lower() == nome.lower():\n",
    "            return i\n",
    "    return -1"
   ]
  },
  {
   "cell_type": "code",
   "execution_count": 30,
   "id": "8f7a2423-1286-4fa7-990b-492ca862fadb",
   "metadata": {},
   "outputs": [],
   "source": [
    "lista_nomes = ['João', 'Felipe', 'Jéssica','Paulo', 'Roberto']"
   ]
  },
  {
   "cell_type": "code",
   "execution_count": 26,
   "id": "0e8d3bd2-1615-469a-bb03-8f210d122809",
   "metadata": {},
   "outputs": [
    {
     "name": "stdin",
     "output_type": "stream",
     "text": [
      "Digite o nome:  Paulo\n"
     ]
    }
   ],
   "source": [
    "n = input(\"Digite o nome: \")"
   ]
  },
  {
   "cell_type": "code",
   "execution_count": 27,
   "id": "51c5d2e5-732b-40fd-b2ec-46302695c23f",
   "metadata": {},
   "outputs": [
    {
     "name": "stdout",
     "output_type": "stream",
     "text": [
      "O nome Paulo foi encontrado na posição 3\n"
     ]
    }
   ],
   "source": [
    "i = buscar_cliente(n, lista_nomes)\n",
    "if i == -1:\n",
    "    print(\"Nome não encontrado!\")\n",
    "else:\n",
    "    print(f\"O nome {n} foi encontrado na posição {i}\")"
   ]
  },
  {
   "cell_type": "code",
   "execution_count": 31,
   "id": "2442ebf6-6d19-4850-a5bf-159c498b6d78",
   "metadata": {},
   "outputs": [
    {
     "name": "stdin",
     "output_type": "stream",
     "text": [
      "Digite o nome <'sair' para sair>:  Paulo\n"
     ]
    },
    {
     "name": "stdout",
     "output_type": "stream",
     "text": [
      "O nome paulo foi encontrado na posição 3\n"
     ]
    },
    {
     "name": "stdin",
     "output_type": "stream",
     "text": [
      "Digite o nome <'sair' para sair>:  paulo\n"
     ]
    },
    {
     "name": "stdout",
     "output_type": "stream",
     "text": [
      "O nome paulo foi encontrado na posição 3\n"
     ]
    },
    {
     "name": "stdin",
     "output_type": "stream",
     "text": [
      "Digite o nome <'sair' para sair>:  josé\n"
     ]
    },
    {
     "name": "stdout",
     "output_type": "stream",
     "text": [
      "Nome não encontrado!\n"
     ]
    },
    {
     "name": "stdin",
     "output_type": "stream",
     "text": [
      "Digite o nome <'sair' para sair>:  joão\n"
     ]
    },
    {
     "name": "stdout",
     "output_type": "stream",
     "text": [
      "O nome joão foi encontrado na posição 0\n"
     ]
    },
    {
     "name": "stdin",
     "output_type": "stream",
     "text": [
      "Digite o nome <'sair' para sair>:  jéssica\n"
     ]
    },
    {
     "name": "stdout",
     "output_type": "stream",
     "text": [
      "O nome jéssica foi encontrado na posição 2\n"
     ]
    },
    {
     "name": "stdin",
     "output_type": "stream",
     "text": [
      "Digite o nome <'sair' para sair>:  sair\n"
     ]
    }
   ],
   "source": [
    "while True:\n",
    "    n = input(\"Digite o nome <'sair' para sair>: \").lower()\n",
    "    if n == 'sair':\n",
    "        break\n",
    "    else:\n",
    "        i = buscar_cliente(n, lista_nomes)\n",
    "        if i == -1:\n",
    "            print(\"Nome não encontrado!\")\n",
    "        else:\n",
    "            print(f\"O nome {n} foi encontrado na posição {i}\")"
   ]
  },
  {
   "cell_type": "markdown",
   "id": "e769a9f9-c811-4692-9599-944443344d04",
   "metadata": {},
   "source": [
    "## Projeto 2"
   ]
  },
  {
   "cell_type": "code",
   "execution_count": 32,
   "id": "dda8ea8d-5354-44a5-a292-0592cc442f05",
   "metadata": {},
   "outputs": [],
   "source": [
    "def busca_nomes(lista, nome):\n",
    "    for i in range(len(lista)):\n",
    "        if lista[i].lower() == nome.lower():\n",
    "            return i\n",
    "    return -1"
   ]
  },
  {
   "cell_type": "code",
   "execution_count": 36,
   "id": "da05d062-fbf6-439e-9e34-b156eef37137",
   "metadata": {},
   "outputs": [],
   "source": [
    "lista_convidados = ['Maria Silva',\n",
    "                    'José Souza',\n",
    "                    'Paulo Alves',\n",
    "                    'Camila Moura',\n",
    "                    'Bruno Almeida'\n",
    "                   ]"
   ]
  },
  {
   "cell_type": "code",
   "execution_count": 37,
   "id": "c4e3a7d7-8055-49e4-867d-09eaccf5bfc9",
   "metadata": {},
   "outputs": [
    {
     "name": "stdin",
     "output_type": "stream",
     "text": [
      "Digite nome/sobrenome do convidado: paulo alves\n"
     ]
    },
    {
     "name": "stdout",
     "output_type": "stream",
     "text": [
      "paulo alves está na lista.\n"
     ]
    }
   ],
   "source": [
    "n = input(\"Digite nome/sobrenome do convidado:\")\n",
    "\n",
    "i = busca_nomes(lista_convidados, n)\n",
    "if i == -1:\n",
    "    print(\"Convidado não encontrado.\")\n",
    "else:\n",
    "    print(f\"{n} está na lista.\")"
   ]
  },
  {
   "cell_type": "code",
   "execution_count": 35,
   "id": "5825d1dd-7a15-40aa-be8d-5e6d5db0e105",
   "metadata": {},
   "outputs": [
    {
     "name": "stdin",
     "output_type": "stream",
     "text": [
      "Digite nome/sobrenome do convidado: Marcos Costa\n"
     ]
    },
    {
     "name": "stdout",
     "output_type": "stream",
     "text": [
      "Convidado não encontrado.\n"
     ]
    }
   ],
   "source": [
    "n = input(\"Digite nome/sobrenome do convidado:\")\n",
    "\n",
    "i = busca_nomes(lista_convidados, n)\n",
    "if i == -1:\n",
    "    print(\"Convidado não encontrado.\")\n",
    "else:\n",
    "    print(f\"{n} está na lista.\")"
   ]
  },
  {
   "cell_type": "code",
   "execution_count": 38,
   "id": "3155465a-99a3-46e7-bb01-2c1c3ca99d1c",
   "metadata": {},
   "outputs": [
    {
     "name": "stdin",
     "output_type": "stream",
     "text": [
      "Digite o Nome do Convidado <'sair' para sair>:  paulo alves\n"
     ]
    },
    {
     "name": "stdout",
     "output_type": "stream",
     "text": [
      "Seja bem-vindo(a)!! O nome paulo alves foi encontrado na lista de convidados.\n"
     ]
    },
    {
     "name": "stdin",
     "output_type": "stream",
     "text": [
      "Digite o Nome do Convidado <'sair' para sair>:  sair\n"
     ]
    }
   ],
   "source": [
    "while True:\n",
    "    n = input(\"Digite o Nome do Convidado <'sair' para sair>: \").lower()\n",
    "    if n == 'sair':\n",
    "        break\n",
    "    else:\n",
    "        i = busca_nomes(lista_convidados, n)\n",
    "        if i == -1:\n",
    "            print(\"Convidado não encontrado!\")\n",
    "        else:\n",
    "            print(f\"Seja bem-vindo(a)!! O nome {n} foi encontrado na lista de convidados.\")"
   ]
  },
  {
   "cell_type": "code",
   "execution_count": null,
   "id": "a8dbfed2-bb4b-49ed-9c93-f4ca821ace76",
   "metadata": {},
   "outputs": [],
   "source": []
  }
 ],
 "metadata": {
  "kernelspec": {
   "display_name": "Python 3 (ipykernel)",
   "language": "python",
   "name": "python3"
  },
  "language_info": {
   "codemirror_mode": {
    "name": "ipython",
    "version": 3
   },
   "file_extension": ".py",
   "mimetype": "text/x-python",
   "name": "python",
   "nbconvert_exporter": "python",
   "pygments_lexer": "ipython3",
   "version": "3.13.5"
  }
 },
 "nbformat": 4,
 "nbformat_minor": 5
}
